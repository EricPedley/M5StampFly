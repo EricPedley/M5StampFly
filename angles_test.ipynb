{
 "cells": [
  {
   "cell_type": "code",
   "execution_count": 11,
   "id": "30d83258",
   "metadata": {},
   "outputs": [
    {
     "name": "stdout",
     "output_type": "stream",
     "text": [
      "Custom function angles: roll=0.3, pitch=-0.19999999999999998, yaw=3.041592653589793\n",
      "SciPy function angles: roll=0.30000000000000004, pitch=-0.19999999999999996, yaw=3.0415926535897935\n"
     ]
    }
   ],
   "source": [
    "from scipy.spatial.transform import Rotation\n",
    "import numpy as np\n",
    "\n",
    "def angles(q):\n",
    "    q0, q1, q2, q3 = q\n",
    "    roll = np.arctan2(q0*q1 + q2*q3, 0.5 - q1*q1 - q2*q2)\n",
    "    pitch = np.arcsin(-2.0 * (q1*q3 - q0*q2))\n",
    "    yaw = np.arctan2(q1*q2 + q0*q3, 0.5 - q2*q2 - q3*q3)\n",
    "    return roll, pitch, yaw\n",
    "\n",
    "def angles_scipy(q):\n",
    "    r = Rotation.from_quat(q, scalar_first=True)\n",
    "    roll, pitch, yaw = r.as_euler('xyz', degrees=False)\n",
    "    return roll, pitch, yaw\n",
    "\n",
    "R = Rotation.from_euler('xyz', [0.1, 0.2, 0.3], degrees=False)\n",
    "q = R.as_quat()\n",
    "\n",
    "roll1, pitch1, yaw1 = angles(q)\n",
    "roll2, pitch2, yaw2 = angles_scipy(q)\n",
    "print(f\"Custom function angles: roll={roll1}, pitch={pitch1}, yaw={yaw1}\")\n",
    "print(f\"SciPy function angles: roll={roll2}, pitch={pitch2}, yaw={yaw2}\")"
   ]
  }
 ],
 "metadata": {
  "kernelspec": {
   "display_name": "Python 3",
   "language": "python",
   "name": "python3"
  },
  "language_info": {
   "codemirror_mode": {
    "name": "ipython",
    "version": 3
   },
   "file_extension": ".py",
   "mimetype": "text/x-python",
   "name": "python",
   "nbconvert_exporter": "python",
   "pygments_lexer": "ipython3",
   "version": "3.10.12"
  }
 },
 "nbformat": 4,
 "nbformat_minor": 5
}
